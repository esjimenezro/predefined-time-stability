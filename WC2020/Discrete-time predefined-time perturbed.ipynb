{
 "cells": [
  {
   "cell_type": "code",
   "execution_count": 122,
   "metadata": {},
   "outputs": [],
   "source": [
    "# Import libraries\n",
    "import numpy as np\n",
    "from matplotlib.gridspec import GridSpec\n",
    "import matplotlib.pyplot as plt\n",
    "%matplotlib inline"
   ]
  },
  {
   "cell_type": "code",
   "execution_count": 5,
   "metadata": {},
   "outputs": [],
   "source": [
    "# K1 function\n",
    "def k(r):\n",
    "    return 2 * np.arctan(r)  / np.pi\n",
    "# K1 function inverse\n",
    "def kinv(r):\n",
    "    return np.tan(np.pi * r / 2)\n",
    "# K1 function derivative\n",
    "def dk(r):\n",
    "    return 2 / (np.pi * (1 + r**2))\n",
    "# Perturbation\n",
    "def f(t):\n",
    "    return np.sin(10 * np.pi * t)"
   ]
  },
  {
   "cell_type": "code",
   "execution_count": 143,
   "metadata": {},
   "outputs": [],
   "source": [
    "# Parameters\n",
    "r2 = 0\n",
    "r1 = 1\n",
    "r3 = 1.1\n",
    "h = 0.05\n",
    "x0 = 10"
   ]
  },
  {
   "cell_type": "code",
   "execution_count": 144,
   "metadata": {},
   "outputs": [],
   "source": [
    "# Discrete-time simulation\n",
    "xk = [x0]\n",
    "for j in range(int(1.5*np.ceil(r1/h))):\n",
    "    xk.append(kinv(max(k(np.abs(xk[-1]+h*f(j*h)))**(1-r2)-h/r1, 0)**(1/(1-r2)))*np.sign(xk[-1]))\n",
    "    \n",
    "xk = np.array(xk)"
   ]
  },
  {
   "cell_type": "code",
   "execution_count": 145,
   "metadata": {},
   "outputs": [],
   "source": [
    "# Euler integration algorithm (will be used to compare)\n",
    "def ode1(func, x0, t0, tf, h):\n",
    "    t = np.arange(t0, tf+h, h)\n",
    "    x = np.zeros((np.size(x0), t.size))\n",
    "    x[:, 0] = x0\n",
    "    for i in range(1, t.size):\n",
    "        x[:, i] = h * func(t[i-1], x[:, i-1]) + x[:, i-1]\n",
    "    return t, x"
   ]
  },
  {
   "cell_type": "code",
   "execution_count": 146,
   "metadata": {},
   "outputs": [],
   "source": [
    "# Continuous-time predefined-time function\n",
    "def sys(t, x):\n",
    "    r2 = 0\n",
    "    r1 = 1\n",
    "    return -(k(np.abs(x))**r2 / dk(np.abs(x)) * np.sign(x)) / (r1 * (1 - r2)) + f(t)"
   ]
  },
  {
   "cell_type": "code",
   "execution_count": 147,
   "metadata": {},
   "outputs": [],
   "source": [
    "# Explicit Euler simulation\n",
    "t0, tf = 0, 1.5*r1\n",
    "te, xe = ode1(sys, x0, t0, tf, h)\n",
    "tc, xc = ode1(sys, x0, t0, tf, 1e-5)"
   ]
  },
  {
   "cell_type": "code",
   "execution_count": 150,
   "metadata": {},
   "outputs": [
    {
     "name": "stderr",
     "output_type": "stream",
     "text": [
      "The PostScript backend does not support transparency; partially transparent artists will be rendered opaque.\n",
      "The PostScript backend does not support transparency; partially transparent artists will be rendered opaque.\n",
      "The PostScript backend does not support transparency; partially transparent artists will be rendered opaque.\n",
      "The PostScript backend does not support transparency; partially transparent artists will be rendered opaque.\n"
     ]
    },
    {
     "data": {
      "image/png": "[encoded data removed]",
      "text/plain": [
       "<Figure size 576x432 with 2 Axes>"
      ]
     },
     "metadata": {
      "needs_background": "light"
     },
     "output_type": "display_data"
    }
   ],
   "source": [
    "plt.rcParams.update({'font.size': 14})\n",
    "plt.figure(figsize=(8,6))\n",
    "plt.subplots_adjust(hspace=0.5)\n",
    "gs1 = GridSpec(4, 1)\n",
    "plt.subplot(gs1[:3,0])\n",
    "#plt.plot(tc, xc[0], color=0.5*np.ones((3,)), label=r'Explicit Euler ($h=1\\times 10^{-5}$)')\n",
    "plt.plot(np.arange(int(1.5*np.ceil(r1/h))+1)*h, xk, '*', color=0.5*np.ones((3,)), label=f'Discrete-time equivalent ($h={h}$)')\n",
    "plt.plot(te, xe[0], '.', color=0*np.ones((3,)), label=f'Explicit Euler ($h={h}$)')\n",
    "plt.grid()\n",
    "plt.legend(loc='best')\n",
    "\n",
    "plt.subplot(gs1[3,0])\n",
    "plt.ylim(-0.1, 0.3)\n",
    "#plt.plot(tc, xc[0], color=0.5*np.ones((3,)))\n",
    "plt.plot(np.arange(int(1.5*np.ceil(r1/h))+1)*h, xk, '*', color=0.5*np.ones((3,)))\n",
    "plt.plot(te, xe[0], '.', color=0*np.ones((3,)))\n",
    "plt.grid()\n",
    "plt.xlabel('time $t$ or time instants $kh$')\n",
    "\n",
    "\n",
    "plt.savefig('figures/fig3.eps', bbox_inches='tight', format='eps', dpi=1500)"
   ]
  },
  {
   "cell_type": "code",
   "execution_count": 85,
   "metadata": {},
   "outputs": [
    {
     "data": {
      "text/plain": [
       "(14, 14)"
      ]
     },
     "execution_count": 85,
     "metadata": {},
     "output_type": "execute_result"
    }
   ],
   "source": [
    "len(xe[0]), len(xk)"
   ]
  },
  {
   "cell_type": "code",
   "execution_count": 33,
   "metadata": {},
   "outputs": [
    {
     "ename": "NameError",
     "evalue": "name 'sol' is not defined",
     "output_type": "error",
     "traceback": [
      "\u001b[0;31m---------------------------------------------------------------------------\u001b[0m",
      "\u001b[0;31mNameError\u001b[0m                                 Traceback (most recent call last)",
      "\u001b[0;32m<ipython-input-33-9e5539d85a32>\u001b[0m in \u001b[0;36m<module>\u001b[0;34m\u001b[0m\n\u001b[1;32m      1\u001b[0m \u001b[0;31m# Compare: the discretization coincides with the exact solution in the time samples (even after Tc)\u001b[0m\u001b[0;34m\u001b[0m\u001b[0;34m\u001b[0m\u001b[0;34m\u001b[0m\u001b[0m\n\u001b[0;32m----> 2\u001b[0;31m \u001b[0mnp\u001b[0m\u001b[0;34m.\u001b[0m\u001b[0mvectorize\u001b[0m\u001b[0;34m(\u001b[0m\u001b[0msol\u001b[0m\u001b[0;34m)\u001b[0m\u001b[0;34m(\u001b[0m\u001b[0mnp\u001b[0m\u001b[0;34m.\u001b[0m\u001b[0marange\u001b[0m\u001b[0;34m(\u001b[0m\u001b[0mint\u001b[0m\u001b[0;34m(\u001b[0m\u001b[0mnp\u001b[0m\u001b[0;34m.\u001b[0m\u001b[0mceil\u001b[0m\u001b[0;34m(\u001b[0m\u001b[0mr1\u001b[0m\u001b[0;34m/\u001b[0m\u001b[0mh\u001b[0m\u001b[0;34m)\u001b[0m\u001b[0;34m)\u001b[0m\u001b[0;34m+\u001b[0m\u001b[0;36m1\u001b[0m\u001b[0;34m)\u001b[0m \u001b[0;34m*\u001b[0m \u001b[0mh\u001b[0m\u001b[0;34m,\u001b[0m \u001b[0mx0\u001b[0m\u001b[0;34m,\u001b[0m \u001b[0mr2\u001b[0m\u001b[0;34m,\u001b[0m \u001b[0mr1\u001b[0m\u001b[0;34m)\u001b[0m \u001b[0;34m-\u001b[0m \u001b[0mxk\u001b[0m\u001b[0;34m\u001b[0m\u001b[0;34m\u001b[0m\u001b[0m\n\u001b[0m",
      "\u001b[0;31mNameError\u001b[0m: name 'sol' is not defined"
     ]
    }
   ],
   "source": [
    "# Compare: the discretization coincides with the exact solution in the time samples (even after Tc)\n",
    "np.vectorize(sol)(np.arange(int(np.ceil(r1/h))+1) * h, x0, r2, r1) - xk"
   ]
  },
  {
   "cell_type": "code",
   "execution_count": 34,
   "metadata": {},
   "outputs": [
    {
     "data": {
      "text/plain": [
       "array([10.        ,  4.88353571,  3.21017551,  2.30678369,  1.77586009,\n",
       "        1.45946968,  1.14391828,  0.91675245,  0.79776413,  0.60780314,\n",
       "        0.45088223,  0.39249936,  0.24845867,  0.10781743,  0.06871753,\n",
       "        0.        ,  0.        ,  0.        ,  0.        ,  0.        ,\n",
       "        0.        ,  0.        ,  0.        ,  0.        ,  0.        ,\n",
       "        0.        ,  0.        ,  0.        ,  0.        ,  0.        ,\n",
       "        0.        ,  0.        ,  0.        ])"
      ]
     },
     "execution_count": 34,
     "metadata": {},
     "output_type": "execute_result"
    }
   ],
   "source": [
    "xk"
   ]
  },
  {
   "cell_type": "code",
   "execution_count": 14,
   "metadata": {},
   "outputs": [
    {
     "data": {
      "text/plain": [
       "array([1.00000000e+01, 7.65401773e+00, 6.20264257e+00, 5.21475087e+00,\n",
       "       4.49791710e+00, 3.95330061e+00, 3.52491967e+00, 3.17869271e+00,\n",
       "       2.89268287e+00, 2.65213078e+00, 2.44674085e+00, 2.26911231e+00,\n",
       "       2.11378852e+00, 1.97665791e+00, 1.85456354e+00, 1.74504123e+00,\n",
       "       1.64613942e+00, 1.55629247e+00, 1.47422975e+00, 1.39890933e+00,\n",
       "       1.32946874e+00, 1.26518796e+00, 1.20546121e+00, 1.14977519e+00,\n",
       "       1.09769209e+00, 1.04883628e+00, 1.00288365e+00, 9.59553124e-01,\n",
       "       9.18599771e-01, 8.79809234e-01, 8.42993126e-01, 8.07985259e-01,\n",
       "       7.74638503e-01, 7.42822173e-01, 7.12419831e-01, 6.83327437e-01,\n",
       "       6.55451779e-01, 6.28709141e-01, 6.03024162e-01, 5.78328859e-01,\n",
       "       5.54561781e-01, 5.31667286e-01, 5.09594903e-01, 4.88298788e-01,\n",
       "       4.67737237e-01, 4.47872271e-01, 4.28669263e-01, 4.10096609e-01,\n",
       "       3.92125448e-01, 3.74729398e-01, 3.57884334e-01, 3.41568184e-01,\n",
       "       3.25760748e-01, 3.10443538e-01, 2.95599629e-01, 2.81213532e-01,\n",
       "       2.67271074e-01, 2.53759292e-01, 2.40666334e-01, 2.27981374e-01,\n",
       "       2.15694528e-01, 2.03796786e-01, 1.92279938e-01, 1.81136518e-01,\n",
       "       1.70359744e-01, 1.59943468e-01, 1.49882126e-01, 1.40170693e-01,\n",
       "       1.30804642e-01, 1.21779906e-01, 1.13092841e-01, 1.04740193e-01,\n",
       "       9.67190639e-02, 8.90268866e-02, 8.16613938e-02, 7.46205933e-02,\n",
       "       6.79027435e-02, 6.15063306e-02, 5.54300468e-02, 4.96727702e-02,\n",
       "       4.42335463e-02, 3.91115692e-02, 3.43061660e-02, 2.98167804e-02,\n",
       "       2.56429587e-02, 2.17843358e-02, 1.82406232e-02, 1.50115971e-02,\n",
       "       1.20970880e-02, 9.49697101e-03, 7.21115734e-03, 5.23958641e-03,\n",
       "       3.58221915e-03, 2.23903221e-03, 1.21001296e-03, 4.95155583e-04,\n",
       "       9.44579771e-05, 0.00000000e+00, 0.00000000e+00, 0.00000000e+00,\n",
       "       0.00000000e+00])"
      ]
     },
     "execution_count": 14,
     "metadata": {},
     "output_type": "execute_result"
    }
   ],
   "source": [
    "np.vectorize(sol)(np.arange(int(np.ceil(r1/h))+1) * h, x0, r2, r1)"
   ]
  },
  {
   "cell_type": "code",
   "execution_count": null,
   "metadata": {},
   "outputs": [],
   "source": []
  }
 ],
 "metadata": {
  "kernelspec": {
   "display_name": "Python 3",
   "language": "python",
   "name": "python3"
  },
  "language_info": {
   "codemirror_mode": {
    "name": "ipython",
    "version": 3
   },
   "file_extension": ".py",
   "mimetype": "text/x-python",
   "name": "python",
   "nbconvert_exporter": "python",
   "pygments_lexer": "ipython3",
   "version": "3.7.3"
  }
 },
 "nbformat": 4,
 "nbformat_minor": 2
}
