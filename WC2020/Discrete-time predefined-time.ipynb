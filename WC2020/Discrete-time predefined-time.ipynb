{
 "cells": [
  {
   "cell_type": "code",
   "execution_count": 1,
   "metadata": {},
   "outputs": [],
   "source": [
    "# Import libraries\n",
    "import numpy as np\n",
    "import matplotlib.pyplot as plt\n",
    "%matplotlib inline"
   ]
  },
  {
   "cell_type": "code",
   "execution_count": 2,
   "metadata": {},
   "outputs": [],
   "source": [
    "# K1 function\n",
    "def k(r):\n",
    "    return 2 * np.arctan(r)  / np.pi\n",
    "# K1 function inverse\n",
    "def kinv(r):\n",
    "    return np.tan(np.pi * r / 2)\n",
    "# K1 function derivative\n",
    "def dk(r):\n",
    "    return 2 / (np.pi * (1 + r**2))"
   ]
  },
  {
   "cell_type": "code",
   "execution_count": 50,
   "metadata": {},
   "outputs": [],
   "source": [
    "# Parameters\n",
    "r2 = 0.5\n",
    "r1 = 1\n",
    "h = 0.02#0.0651318636497\n",
    "x0 = 10"
   ]
  },
  {
   "cell_type": "code",
   "execution_count": 51,
   "metadata": {},
   "outputs": [],
   "source": [
    "# Exact solution\n",
    "def sol(t, x0, r2, r1):\n",
    "    if t < k(np.abs(x0))**(1 - r2) * r1:\n",
    "        return kinv((k(np.abs(x0))**(1 - r2) - t / r1)**(1 / (1 - r2))) * np.sign(x0)\n",
    "    elif t >= k(np.abs(x0))**(1 - r2) * r1:\n",
    "        return 0"
   ]
  },
  {
   "cell_type": "code",
   "execution_count": 52,
   "metadata": {},
   "outputs": [],
   "source": [
    "# Generation of exact solution\n",
    "tc = np.linspace(0, 1.5*r1, 101)\n",
    "xc = np.vectorize(sol)(tc, x0, r2, r1)"
   ]
  },
  {
   "cell_type": "code",
   "execution_count": 53,
   "metadata": {},
   "outputs": [],
   "source": [
    "# Discrete-time simulation\n",
    "xk = [x0]\n",
    "for j in range(int(1.5*np.ceil(r1/h))):\n",
    "    xk.append(kinv(max(k(np.abs(xk[-1]))**(1-r2)-h/r1, 0)**(1/(1-r2)))*np.sign(xk[-1]))\n",
    "    \n",
    "xk = np.array(xk)"
   ]
  },
  {
   "cell_type": "code",
   "execution_count": 54,
   "metadata": {},
   "outputs": [],
   "source": [
    "# Euler integration algorithm (will be used to compare)\n",
    "def ode1(func, x0, t0, tf, h):\n",
    "    t = np.arange(t0, tf+h, h)\n",
    "    x = np.zeros((np.size(x0), t.size))\n",
    "    x[:, 0] = x0\n",
    "    for i in range(1, t.size):\n",
    "        x[:, i] = h * func(t[i-1], x[:, i-1]) + x[:, i-1]\n",
    "    return t, x"
   ]
  },
  {
   "cell_type": "code",
   "execution_count": 55,
   "metadata": {},
   "outputs": [],
   "source": [
    "# Continuous-time predefined-time function\n",
    "def sys(t, x):\n",
    "    r2 = 0.5\n",
    "    r1 = 1\n",
    "    return -(k(np.abs(x))**r2 / dk(np.abs(x)) * np.sign(x)) / (r1 * (1 - r2))"
   ]
  },
  {
   "cell_type": "code",
   "execution_count": 56,
   "metadata": {},
   "outputs": [],
   "source": [
    "# Explicit Euler simulation\n",
    "t0, tf = 0, 1.5*r1\n",
    "te, xe = ode1(sys, x0, t0, tf, h)"
   ]
  },
  {
   "cell_type": "code",
   "execution_count": 57,
   "metadata": {},
   "outputs": [
    {
     "name": "stderr",
     "output_type": "stream",
     "text": [
      "The PostScript backend does not support transparency; partially transparent artists will be rendered opaque.\n",
      "The PostScript backend does not support transparency; partially transparent artists will be rendered opaque.\n",
      "The PostScript backend does not support transparency; partially transparent artists will be rendered opaque.\n",
      "The PostScript backend does not support transparency; partially transparent artists will be rendered opaque.\n"
     ]
    },
    {
     "data": {
      "image/png": "[encoded data removed]",
      "text/plain": [
       "<Figure size 576x432 with 1 Axes>"
      ]
     },
     "metadata": {
      "needs_background": "light"
     },
     "output_type": "display_data"
    }
   ],
   "source": [
    "plt.rcParams.update({'font.size': 14})\n",
    "plt.figure(figsize=(8,6))\n",
    "plt.plot(tc, xc, lw = 3, color=0.5*np.ones((3,)), label='Exact solution $x(t)$')\n",
    "plt.plot(np.arange(int(1.5*np.ceil(r1/h))+1)*h, xk, 'g*', ms=10, label=f'Discrete-time equivalent ($h={h}$)')\n",
    "plt.plot(te, xe[0], 'r.', ms=10, label=f'Explicit Euler ($h={h}$)')\n",
    "plt.grid()\n",
    "plt.xlabel('time $t$ or time instants $kh$')\n",
    "plt.legend(loc='best')\n",
    "plt.savefig('figures/consistent02.eps', bbox_inches='tight', format='eps', dpi=1500)"
   ]
  },
  {
   "cell_type": "code",
   "execution_count": 48,
   "metadata": {},
   "outputs": [
    {
     "data": {
      "text/plain": [
       "(25, 25)"
      ]
     },
     "execution_count": 48,
     "metadata": {},
     "output_type": "execute_result"
    }
   ],
   "source": [
    "len(xe[0]), len(xk)"
   ]
  },
  {
   "cell_type": "code",
   "execution_count": 12,
   "metadata": {},
   "outputs": [
    {
     "data": {
      "text/plain": [
       "array([1.06581410e-14, 0.00000000e+00, 0.00000000e+00, 0.00000000e+00,\n",
       "       0.00000000e+00, 0.00000000e+00, 3.10862447e-15, 2.22044605e-15,\n",
       "       3.99680289e-15, 3.55271368e-15, 1.33226763e-15, 1.77635684e-15,\n",
       "       2.66453526e-15, 1.11022302e-15, 0.00000000e+00, 8.88178420e-16,\n",
       "       1.55431223e-15, 4.44089210e-16, 2.22044605e-16, 6.66133815e-16,\n",
       "       6.66133815e-16, 1.55431223e-15, 8.88178420e-16, 1.11022302e-15,\n",
       "       1.33226763e-15, 1.11022302e-15, 8.88178420e-16, 8.88178420e-16,\n",
       "       7.77156117e-16, 1.33226763e-15, 1.11022302e-15, 1.11022302e-15,\n",
       "       1.11022302e-15, 1.11022302e-15, 7.77156117e-16, 6.66133815e-16,\n",
       "       5.55111512e-16, 4.44089210e-16, 5.55111512e-16, 6.66133815e-16,\n",
       "       4.44089210e-16, 5.55111512e-16, 4.44089210e-16, 3.88578059e-16,\n",
       "       3.88578059e-16, 4.44089210e-16, 4.99600361e-16, 4.99600361e-16,\n",
       "       4.99600361e-16, 4.44089210e-16, 3.88578059e-16, 3.33066907e-16,\n",
       "       3.88578059e-16, 4.44089210e-16, 4.44089210e-16, 3.33066907e-16,\n",
       "       3.33066907e-16, 3.88578059e-16, 4.99600361e-16, 4.71844785e-16,\n",
       "       4.44089210e-16, 4.44089210e-16, 4.44089210e-16, 3.60822483e-16,\n",
       "       3.33066907e-16, 3.60822483e-16, 3.33066907e-16, 3.33066907e-16,\n",
       "       3.05311332e-16, 3.05311332e-16, 2.91433544e-16, 3.46944695e-16,\n",
       "       3.46944695e-16, 3.46944695e-16, 3.19189120e-16, 3.05311332e-16,\n",
       "       2.91433544e-16, 2.84494650e-16, 2.63677968e-16, 2.49800181e-16,\n",
       "       2.35922393e-16, 2.28983499e-16, 2.08166817e-16, 1.90819582e-16,\n",
       "       2.18575158e-16, 2.01227923e-16, 1.76941795e-16, 1.57859836e-16,\n",
       "       1.37043155e-16, 1.17961196e-16, 1.00613962e-16, 8.41340886e-17,\n",
       "       6.89552582e-17, 5.33427469e-17, 3.85975973e-17, 2.42861287e-17,\n",
       "       1.31459513e-17, 0.00000000e+00, 0.00000000e+00, 0.00000000e+00,\n",
       "       0.00000000e+00])"
      ]
     },
     "execution_count": 12,
     "metadata": {},
     "output_type": "execute_result"
    }
   ],
   "source": [
    "# Compare: the discretization coincides with the exact solution in the time samples (even after Tc)\n",
    "np.vectorize(sol)(np.arange(int(np.ceil(r1/h))+1) * h, x0, r2, r1) - xk"
   ]
  },
  {
   "cell_type": "code",
   "execution_count": 13,
   "metadata": {},
   "outputs": [
    {
     "data": {
      "text/plain": [
       "array([1.00000000e+01, 7.65401773e+00, 6.20264257e+00, 5.21475087e+00,\n",
       "       4.49791710e+00, 3.95330061e+00, 3.52491967e+00, 3.17869271e+00,\n",
       "       2.89268287e+00, 2.65213078e+00, 2.44674085e+00, 2.26911231e+00,\n",
       "       2.11378852e+00, 1.97665791e+00, 1.85456354e+00, 1.74504123e+00,\n",
       "       1.64613942e+00, 1.55629247e+00, 1.47422975e+00, 1.39890933e+00,\n",
       "       1.32946874e+00, 1.26518796e+00, 1.20546121e+00, 1.14977519e+00,\n",
       "       1.09769209e+00, 1.04883628e+00, 1.00288365e+00, 9.59553124e-01,\n",
       "       9.18599771e-01, 8.79809234e-01, 8.42993126e-01, 8.07985259e-01,\n",
       "       7.74638503e-01, 7.42822173e-01, 7.12419831e-01, 6.83327437e-01,\n",
       "       6.55451779e-01, 6.28709141e-01, 6.03024162e-01, 5.78328859e-01,\n",
       "       5.54561781e-01, 5.31667286e-01, 5.09594903e-01, 4.88298788e-01,\n",
       "       4.67737237e-01, 4.47872271e-01, 4.28669263e-01, 4.10096609e-01,\n",
       "       3.92125448e-01, 3.74729398e-01, 3.57884334e-01, 3.41568184e-01,\n",
       "       3.25760748e-01, 3.10443538e-01, 2.95599629e-01, 2.81213532e-01,\n",
       "       2.67271074e-01, 2.53759292e-01, 2.40666334e-01, 2.27981374e-01,\n",
       "       2.15694528e-01, 2.03796786e-01, 1.92279938e-01, 1.81136518e-01,\n",
       "       1.70359744e-01, 1.59943468e-01, 1.49882126e-01, 1.40170693e-01,\n",
       "       1.30804642e-01, 1.21779906e-01, 1.13092841e-01, 1.04740193e-01,\n",
       "       9.67190639e-02, 8.90268866e-02, 8.16613938e-02, 7.46205933e-02,\n",
       "       6.79027435e-02, 6.15063306e-02, 5.54300468e-02, 4.96727702e-02,\n",
       "       4.42335463e-02, 3.91115692e-02, 3.43061660e-02, 2.98167804e-02,\n",
       "       2.56429587e-02, 2.17843358e-02, 1.82406232e-02, 1.50115971e-02,\n",
       "       1.20970880e-02, 9.49697101e-03, 7.21115734e-03, 5.23958641e-03,\n",
       "       3.58221915e-03, 2.23903221e-03, 1.21001296e-03, 4.95155583e-04,\n",
       "       9.44579771e-05, 0.00000000e+00, 0.00000000e+00, 0.00000000e+00,\n",
       "       0.00000000e+00])"
      ]
     },
     "execution_count": 13,
     "metadata": {},
     "output_type": "execute_result"
    }
   ],
   "source": [
    "xk"
   ]
  },
  {
   "cell_type": "code",
   "execution_count": 14,
   "metadata": {},
   "outputs": [
    {
     "data": {
      "text/plain": [
       "array([1.00000000e+01, 7.65401773e+00, 6.20264257e+00, 5.21475087e+00,\n",
       "       4.49791710e+00, 3.95330061e+00, 3.52491967e+00, 3.17869271e+00,\n",
       "       2.89268287e+00, 2.65213078e+00, 2.44674085e+00, 2.26911231e+00,\n",
       "       2.11378852e+00, 1.97665791e+00, 1.85456354e+00, 1.74504123e+00,\n",
       "       1.64613942e+00, 1.55629247e+00, 1.47422975e+00, 1.39890933e+00,\n",
       "       1.32946874e+00, 1.26518796e+00, 1.20546121e+00, 1.14977519e+00,\n",
       "       1.09769209e+00, 1.04883628e+00, 1.00288365e+00, 9.59553124e-01,\n",
       "       9.18599771e-01, 8.79809234e-01, 8.42993126e-01, 8.07985259e-01,\n",
       "       7.74638503e-01, 7.42822173e-01, 7.12419831e-01, 6.83327437e-01,\n",
       "       6.55451779e-01, 6.28709141e-01, 6.03024162e-01, 5.78328859e-01,\n",
       "       5.54561781e-01, 5.31667286e-01, 5.09594903e-01, 4.88298788e-01,\n",
       "       4.67737237e-01, 4.47872271e-01, 4.28669263e-01, 4.10096609e-01,\n",
       "       3.92125448e-01, 3.74729398e-01, 3.57884334e-01, 3.41568184e-01,\n",
       "       3.25760748e-01, 3.10443538e-01, 2.95599629e-01, 2.81213532e-01,\n",
       "       2.67271074e-01, 2.53759292e-01, 2.40666334e-01, 2.27981374e-01,\n",
       "       2.15694528e-01, 2.03796786e-01, 1.92279938e-01, 1.81136518e-01,\n",
       "       1.70359744e-01, 1.59943468e-01, 1.49882126e-01, 1.40170693e-01,\n",
       "       1.30804642e-01, 1.21779906e-01, 1.13092841e-01, 1.04740193e-01,\n",
       "       9.67190639e-02, 8.90268866e-02, 8.16613938e-02, 7.46205933e-02,\n",
       "       6.79027435e-02, 6.15063306e-02, 5.54300468e-02, 4.96727702e-02,\n",
       "       4.42335463e-02, 3.91115692e-02, 3.43061660e-02, 2.98167804e-02,\n",
       "       2.56429587e-02, 2.17843358e-02, 1.82406232e-02, 1.50115971e-02,\n",
       "       1.20970880e-02, 9.49697101e-03, 7.21115734e-03, 5.23958641e-03,\n",
       "       3.58221915e-03, 2.23903221e-03, 1.21001296e-03, 4.95155583e-04,\n",
       "       9.44579771e-05, 0.00000000e+00, 0.00000000e+00, 0.00000000e+00,\n",
       "       0.00000000e+00])"
      ]
     },
     "execution_count": 14,
     "metadata": {},
     "output_type": "execute_result"
    }
   ],
   "source": [
    "np.vectorize(sol)(np.arange(int(np.ceil(r1/h))+1) * h, x0, r2, r1)"
   ]
  },
  {
   "cell_type": "code",
   "execution_count": null,
   "metadata": {},
   "outputs": [],
   "source": []
  }
 ],
 "metadata": {
  "kernelspec": {
   "display_name": "Python 3",
   "language": "python",
   "name": "python3"
  },
  "language_info": {
   "codemirror_mode": {
    "name": "ipython",
    "version": 3
   },
   "file_extension": ".py",
   "mimetype": "text/x-python",
   "name": "python",
   "nbconvert_exporter": "python",
   "pygments_lexer": "ipython3",
   "version": "3.7.3"
  }
 },
 "nbformat": 4,
 "nbformat_minor": 2
}
